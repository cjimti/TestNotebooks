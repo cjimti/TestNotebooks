{
 "cells": [
  {
   "cell_type": "code",
   "execution_count": 1,
   "metadata": {},
   "outputs": [],
   "source": [
    "import numpy as np\n",
    "from sklearn.preprocessing import MinMaxScaler"
   ]
  },
  {
   "cell_type": "code",
   "execution_count": 2,
   "metadata": {},
   "outputs": [
    {
     "data": {
      "text/plain": [
       "array([[26, 55],\n",
       "       [16, 43],\n",
       "       [74, 80],\n",
       "       [95, 25],\n",
       "       [37, 90],\n",
       "       [80, 23],\n",
       "       [44, 83],\n",
       "       [57, 92],\n",
       "       [77, 23],\n",
       "       [55, 28]])"
      ]
     },
     "execution_count": 2,
     "metadata": {},
     "output_type": "execute_result"
    }
   ],
   "source": [
    "d = np.random.randint(10, 100, (10 ,2))\n",
    "d"
   ]
  },
  {
   "cell_type": "code",
   "execution_count": 3,
   "metadata": {},
   "outputs": [
    {
     "data": {
      "text/plain": [
       "array([[0.12658228, 0.46376812],\n",
       "       [0.        , 0.28985507],\n",
       "       [0.73417722, 0.82608696],\n",
       "       [1.        , 0.02898551],\n",
       "       [0.26582278, 0.97101449],\n",
       "       [0.81012658, 0.        ],\n",
       "       [0.35443038, 0.86956522],\n",
       "       [0.51898734, 1.        ],\n",
       "       [0.7721519 , 0.        ],\n",
       "       [0.49367089, 0.07246377]])"
      ]
     },
     "execution_count": 3,
     "metadata": {},
     "output_type": "execute_result"
    }
   ],
   "source": [
    "scalar_model = MinMaxScaler()\n",
    "scalar_model.fit_transform(d)"
   ]
  },
  {
   "cell_type": "code",
   "execution_count": null,
   "metadata": {},
   "outputs": [],
   "source": []
  }
 ],
 "metadata": {
  "kernelspec": {
   "display_name": "Python 3",
   "language": "python",
   "name": "python3"
  },
  "language_info": {
   "codemirror_mode": {
    "name": "ipython",
    "version": 3
   },
   "file_extension": ".py",
   "mimetype": "text/x-python",
   "name": "python",
   "nbconvert_exporter": "python",
   "pygments_lexer": "ipython3",
   "version": "3.7.6"
  }
 },
 "nbformat": 4,
 "nbformat_minor": 4
}
