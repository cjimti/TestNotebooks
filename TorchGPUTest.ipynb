{
 "cells": [
  {
   "cell_type": "code",
   "execution_count": 1,
   "metadata": {},
   "outputs": [],
   "source": [
    "import torch"
   ]
  },
  {
   "cell_type": "code",
   "execution_count": 2,
   "metadata": {},
   "outputs": [
    {
     "data": {
      "text/plain": [
       "True"
      ]
     },
     "execution_count": 2,
     "metadata": {},
     "output_type": "execute_result"
    }
   ],
   "source": [
    "torch.cuda.is_available()"
   ]
  },
  {
   "cell_type": "code",
   "execution_count": 3,
   "metadata": {},
   "outputs": [
    {
     "name": "stdout",
     "output_type": "stream",
     "text": [
      "tensor([[0.0169, 0.9467, 0.5363, 0.9584, 0.3156],\n",
      "        [0.8019, 0.9053, 0.6847, 0.9064, 0.1007],\n",
      "        [0.1737, 0.6080, 0.7540, 0.5925, 0.2054],\n",
      "        [0.3939, 0.6765, 0.2907, 0.5377, 0.5120],\n",
      "        [0.7550, 0.8331, 0.9017, 0.4315, 0.9879]], device='cuda:0')\n",
      "tensor([[0.0169, 0.9467, 0.5363, 0.9584, 0.3156],\n",
      "        [0.8019, 0.9053, 0.6847, 0.9064, 0.1007],\n",
      "        [0.1737, 0.6080, 0.7540, 0.5925, 0.2054],\n",
      "        [0.3939, 0.6765, 0.2907, 0.5377, 0.5120],\n",
      "        [0.7550, 0.8331, 0.9017, 0.4315, 0.9879]], dtype=torch.float64)\n"
     ]
    }
   ],
   "source": [
    "device = torch.device(\"cuda\")\n",
    "x = torch.rand(10000, 10000, device=device)\n",
    "y = x.to(\"cpu\", torch.double)\n",
    "print(x[0:5, 0:5])\n",
    "print(y[0:5, 0:5])"
   ]
  },
  {
   "cell_type": "code",
   "execution_count": 4,
   "metadata": {},
   "outputs": [
    {
     "name": "stdout",
     "output_type": "stream",
     "text": [
      "tensor([[0.0085, 0.4733, 0.2681, 0.4792, 0.1578],\n",
      "        [0.4010, 0.4527, 0.3423, 0.4532, 0.0504],\n",
      "        [0.0869, 0.3040, 0.3770, 0.2963, 0.1027],\n",
      "        [0.1969, 0.3383, 0.1453, 0.2688, 0.2560],\n",
      "        [0.3775, 0.4166, 0.4508, 0.2158, 0.4940]], dtype=torch.float64)\n",
      "CPU times: user 44.8 s, sys: 51.9 s, total: 1min 36s\n",
      "Wall time: 12.3 s\n"
     ]
    }
   ],
   "source": [
    "%%time\n",
    "for i in range(0,100):\n",
    "    ym = y * .5\n",
    "    \n",
    "print(ym[0:5, 0:5])"
   ]
  },
  {
   "cell_type": "code",
   "execution_count": 5,
   "metadata": {},
   "outputs": [
    {
     "name": "stdout",
     "output_type": "stream",
     "text": [
      "tensor([[0.0042, 0.2367, 0.1341, 0.2396, 0.0789],\n",
      "        [0.2005, 0.2263, 0.1712, 0.2266, 0.0252],\n",
      "        [0.0434, 0.1520, 0.1885, 0.1481, 0.0513],\n",
      "        [0.0985, 0.1691, 0.0727, 0.1344, 0.1280],\n",
      "        [0.1887, 0.2083, 0.2254, 0.1079, 0.2470]], device='cuda:0')\n",
      "CPU times: user 585 ms, sys: 240 ms, total: 826 ms\n",
      "Wall time: 823 ms\n"
     ]
    }
   ],
   "source": [
    "%%time\n",
    "for i in range(0,100):\n",
    "    xm = (x * .5) /2\n",
    "\n",
    "print(xm[0:5, 0:5])"
   ]
  },
  {
   "cell_type": "code",
   "execution_count": null,
   "metadata": {},
   "outputs": [],
   "source": []
  }
 ],
 "metadata": {
  "kernelspec": {
   "display_name": "Python 3",
   "language": "python",
   "name": "python3"
  },
  "language_info": {
   "codemirror_mode": {
    "name": "ipython",
    "version": 3
   },
   "file_extension": ".py",
   "mimetype": "text/x-python",
   "name": "python",
   "nbconvert_exporter": "python",
   "pygments_lexer": "ipython3",
   "version": "3.7.6"
  }
 },
 "nbformat": 4,
 "nbformat_minor": 4
}
