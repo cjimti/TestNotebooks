{
 "cells": [
  {
   "cell_type": "markdown",
   "metadata": {},
   "source": [
    "# PyTorch CUDA Test"
   ]
  },
  {
   "cell_type": "code",
   "execution_count": 1,
   "metadata": {},
   "outputs": [],
   "source": [
    "import torch"
   ]
  },
  {
   "cell_type": "code",
   "execution_count": 2,
   "metadata": {},
   "outputs": [
    {
     "data": {
      "text/plain": [
       "True"
      ]
     },
     "execution_count": 2,
     "metadata": {},
     "output_type": "execute_result"
    }
   ],
   "source": [
    "torch.cuda.is_available()"
   ]
  },
  {
   "cell_type": "code",
   "execution_count": 3,
   "metadata": {},
   "outputs": [
    {
     "name": "stdout",
     "output_type": "stream",
     "text": [
      "tensor([[0.2076, 0.2335, 0.7513, 0.3559, 0.0743],\n",
      "        [0.7606, 0.3788, 0.0648, 0.8628, 0.5447],\n",
      "        [0.0100, 0.5309, 0.9162, 0.8445, 0.2397],\n",
      "        [0.7017, 0.2206, 0.7480, 0.3963, 0.0934],\n",
      "        [0.8556, 0.6081, 0.2961, 0.3992, 0.4661]], device='cuda:0')\n",
      "tensor([[0.2076, 0.2335, 0.7513, 0.3559, 0.0743],\n",
      "        [0.7606, 0.3788, 0.0648, 0.8628, 0.5447],\n",
      "        [0.0100, 0.5309, 0.9162, 0.8445, 0.2397],\n",
      "        [0.7017, 0.2206, 0.7480, 0.3963, 0.0934],\n",
      "        [0.8556, 0.6081, 0.2961, 0.3992, 0.4661]], dtype=torch.float64)\n"
     ]
    }
   ],
   "source": [
    "device = torch.device(\"cuda\")\n",
    "x = torch.rand(10000, 10000, device=device)\n",
    "y = x.to(\"cpu\", torch.double)\n",
    "print(x[0:5, 0:5])\n",
    "print(y[0:5, 0:5])"
   ]
  },
  {
   "cell_type": "code",
   "execution_count": 4,
   "metadata": {},
   "outputs": [
    {
     "name": "stdout",
     "output_type": "stream",
     "text": [
      "tensor([[0.1038, 0.1168, 0.3756, 0.1780, 0.0371],\n",
      "        [0.3803, 0.1894, 0.0324, 0.4314, 0.2724],\n",
      "        [0.0050, 0.2654, 0.4581, 0.4222, 0.1198],\n",
      "        [0.3508, 0.1103, 0.3740, 0.1982, 0.0467],\n",
      "        [0.4278, 0.3040, 0.1480, 0.1996, 0.2330]], dtype=torch.float64)\n",
      "CPU times: user 46.4 s, sys: 51.7 s, total: 1min 38s\n",
      "Wall time: 12.5 s\n"
     ]
    }
   ],
   "source": [
    "%%time\n",
    "for i in range(0,100):\n",
    "    ym = y * .5\n",
    "    \n",
    "print(ym[0:5, 0:5])"
   ]
  },
  {
   "cell_type": "code",
   "execution_count": 5,
   "metadata": {},
   "outputs": [
    {
     "name": "stdout",
     "output_type": "stream",
     "text": [
      "tensor([[0.1038, 0.1168, 0.3756, 0.1780, 0.0371],\n",
      "        [0.3803, 0.1894, 0.0324, 0.4314, 0.2724],\n",
      "        [0.0050, 0.2654, 0.4581, 0.4222, 0.1198],\n",
      "        [0.3508, 0.1103, 0.3740, 0.1982, 0.0467],\n",
      "        [0.4278, 0.3040, 0.1480, 0.1996, 0.2330]], device='cuda:0')\n",
      "CPU times: user 292 ms, sys: 131 ms, total: 424 ms\n",
      "Wall time: 421 ms\n"
     ]
    }
   ],
   "source": [
    "%%time\n",
    "for i in range(0,100):\n",
    "    xm = x * .5\n",
    "\n",
    "print(xm[0:5, 0:5])"
   ]
  },
  {
   "cell_type": "code",
   "execution_count": null,
   "metadata": {},
   "outputs": [],
   "source": []
  }
 ],
 "metadata": {
  "kernelspec": {
   "display_name": "Python 3",
   "language": "python",
   "name": "python3"
  },
  "language_info": {
   "codemirror_mode": {
    "name": "ipython",
    "version": 3
   },
   "file_extension": ".py",
   "mimetype": "text/x-python",
   "name": "python",
   "nbconvert_exporter": "python",
   "pygments_lexer": "ipython3",
   "version": "3.7.6"
  }
 },
 "nbformat": 4,
 "nbformat_minor": 4
}
